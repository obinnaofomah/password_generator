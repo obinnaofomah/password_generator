{
 "cells": [
  {
   "attachments": {},
   "cell_type": "markdown",
   "metadata": {},
   "source": [
    "# Welcome to the Password Generator Project"
   ]
  },
  {
   "attachments": {},
   "cell_type": "markdown",
   "metadata": {},
   "source": [
    "#### Project Description\n",
    "This is goal of this project is to develop a strong character passwords for various brands to protect and manage their IT infrastructure and tools better.\n",
    "\n",
    "The password would be a combination of alphabets, numbers and characters, and the length of the password characters will be chosen by the user."
   ]
  },
  {
   "cell_type": "markdown",
   "metadata": {},
   "source": []
  },
  {
   "attachments": {},
   "cell_type": "markdown",
   "metadata": {},
   "source": [
    "##### Step One.\n",
    "\n",
    "Ask the user for the number of alphabets, symbols and characters he/she wants."
   ]
  },
  {
   "cell_type": "code",
   "execution_count": 1,
   "metadata": {},
   "outputs": [
    {
     "name": "stdout",
     "output_type": "stream",
     "text": [
      "Welcome to the PyPassword Generator!\n"
     ]
    }
   ],
   "source": [
    "print(\"Welcome to the PyPassword Generator!\")\n",
    "num_letters = int(input(\"How many letters would you like in your password?\\n\")) \n",
    "num_symbols = int(input(f\"How many symbols would you like?\\n\"))\n",
    "num_numbers = int(input(f\"How many numbers would you like?\\n\"))\n"
   ]
  },
  {
   "attachments": {},
   "cell_type": "markdown",
   "metadata": {},
   "source": [
    "##### Step Two\n",
    "Initialize the variables and import the random library\n"
   ]
  },
  {
   "cell_type": "code",
   "execution_count": 3,
   "metadata": {},
   "outputs": [],
   "source": [
    "import random\n",
    "\n",
    "password = []\n",
    "letters = ['a', 'b', 'c', 'd', 'e', 'f', 'g', 'h', 'i', 'j', 'k', 'l', 'm', 'n', 'o', 'p', 'q', 'r', 's', 't', 'u', 'v', 'w', 'x', 'y', 'z', 'A', 'B', 'C', 'D', 'E', 'F', 'G', 'H', 'I', 'J', 'K', 'L', 'M', 'N', 'O', 'P', 'Q', 'R', 'S', 'T', 'U', 'V', 'W', 'X', 'Y', 'Z']\n",
    "numbers = ['0', '1', '2', '3', '4', '5', '6', '7', '8', '9']\n",
    "symbols = ['!', '#', '$', '%', '&', '(', ')', '*', '+']\n"
   ]
  },
  {
   "cell_type": "code",
   "execution_count": 4,
   "metadata": {},
   "outputs": [],
   "source": [
    "# Iterate for a random character for each variable, and append to the empty password list\n",
    "\n",
    "for alpha in range(num_letters):\n",
    "    password.append(random.choice(letters))\n",
    "\n",
    "for sym in range(num_symbols):\n",
    "    password.append(random.choice(symbols))\n",
    "\n",
    "for num in range(num_numbers):\n",
    "    password.append(random.choice(numbers))"
   ]
  },
  {
   "cell_type": "code",
   "execution_count": 19,
   "metadata": {},
   "outputs": [
    {
     "name": "stdout",
     "output_type": "stream",
     "text": [
      "$jyH5!8p8&D0\n"
     ]
    }
   ],
   "source": [
    "# Shuffle the password, and create a new string variable to add the shuffled characters, and finally print your password\n",
    "\n",
    "random.shuffle(password)\n",
    "\n",
    "new_password = ''\n",
    "\n",
    "for char in password:\n",
    "    new_password += char\n",
    "\n",
    "print(new_password)"
   ]
  },
  {
   "attachments": {},
   "cell_type": "markdown",
   "metadata": {},
   "source": [
    "## Thank you for reading till the end"
   ]
  },
  {
   "cell_type": "markdown",
   "metadata": {},
   "source": []
  }
 ],
 "metadata": {
  "kernelspec": {
   "display_name": "Python 3",
   "language": "python",
   "name": "python3"
  },
  "language_info": {
   "codemirror_mode": {
    "name": "ipython",
    "version": 3
   },
   "file_extension": ".py",
   "mimetype": "text/x-python",
   "name": "python",
   "nbconvert_exporter": "python",
   "pygments_lexer": "ipython3",
   "version": "3.11.0"
  },
  "orig_nbformat": 4,
  "vscode": {
   "interpreter": {
    "hash": "53b53c30d88cc8187b642e5073c5dea6eceb7c1e6447348f55e293ba3d7a8f14"
   }
  }
 },
 "nbformat": 4,
 "nbformat_minor": 2
}
